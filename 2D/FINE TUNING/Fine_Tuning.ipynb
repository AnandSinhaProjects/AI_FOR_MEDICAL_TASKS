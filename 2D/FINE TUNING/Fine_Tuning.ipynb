{
  "nbformat": 4,
  "nbformat_minor": 0,
  "metadata": {
    "colab": {
      "name": "Fine_Tuning.ipynb",
      "provenance": [],
      "authorship_tag": "ABX9TyOXEIh4yuI/IfF+MMJrIa8a",
      "include_colab_link": true
    },
    "kernelspec": {
      "name": "python3",
      "display_name": "Python 3"
    },
    "language_info": {
      "name": "python"
    }
  },
  "cells": [
    {
      "cell_type": "markdown",
      "metadata": {
        "id": "view-in-github",
        "colab_type": "text"
      },
      "source": [
        "<a href=\"https://colab.research.google.com/github/AnandSinhaProjects/AI_FOR_MEDICAL_TASKS/blob/main/2D/FINE%20TUNING/Fine_Tuning.ipynb\" target=\"_parent\"><img src=\"https://colab.research.google.com/assets/colab-badge.svg\" alt=\"Open In Colab\"/></a>"
      ]
    },
    {
      "cell_type": "code",
      "metadata": {
        "id": "wfwa0CjPAR-K"
      },
      "source": [
        "import tensorflow as tf\n",
        "import matplotlib.pyplot as plt\n",
        "from tensorflow import keras\n",
        "import numpy as np\n",
        "import seaborn as sns\n",
        "import glob\n",
        "import pandas as pd\n",
        "\n",
        "from keras.preprocessing.image import ImageDataGenerator\n",
        "from keras.layers import GlobalAveragePooling2D, MaxPooling2D, Dense, Dropout, Flatten, Conv2D\n",
        "from keras.models import Sequential,Model\n",
        "from keras.applications.vgg16 import VGG16\n",
        "from tensorflow.keras.optimizers import Adam\n",
        "from keras.callbacks import ModelCheckpoint,ReduceLROnPlateau,EarlyStopping,LearningRateScheduler"
      ],
      "execution_count": null,
      "outputs": []
    },
    {
      "cell_type": "code",
      "metadata": {
        "id": "pCwJ5ZbuA1ZK"
      },
      "source": [
        "tdf=pd.read_csv('/content/train.csv')"
      ],
      "execution_count": null,
      "outputs": []
    },
    {
      "cell_type": "code",
      "metadata": {
        "colab": {
          "base_uri": "https://localhost:8080/",
          "height": 204
        },
        "id": "gnIDqbyVA9Vt",
        "outputId": "eaf1f733-196a-4b54-aa6b-2565f86fa5dd"
      },
      "source": [
        "tdf.head()"
      ],
      "execution_count": null,
      "outputs": [
        {
          "output_type": "execute_result",
          "data": {
            "text/html": [
              "<div>\n",
              "<style scoped>\n",
              "    .dataframe tbody tr th:only-of-type {\n",
              "        vertical-align: middle;\n",
              "    }\n",
              "\n",
              "    .dataframe tbody tr th {\n",
              "        vertical-align: top;\n",
              "    }\n",
              "\n",
              "    .dataframe thead th {\n",
              "        text-align: right;\n",
              "    }\n",
              "</style>\n",
              "<table border=\"1\" class=\"dataframe\">\n",
              "  <thead>\n",
              "    <tr style=\"text-align: right;\">\n",
              "      <th></th>\n",
              "      <th>img_path</th>\n",
              "      <th>class</th>\n",
              "    </tr>\n",
              "  </thead>\n",
              "  <tbody>\n",
              "    <tr>\n",
              "      <th>0</th>\n",
              "      <td>mdb003.pgm.png</td>\n",
              "      <td>dense</td>\n",
              "    </tr>\n",
              "    <tr>\n",
              "      <th>1</th>\n",
              "      <td>mdb004.pgm.png</td>\n",
              "      <td>dense</td>\n",
              "    </tr>\n",
              "    <tr>\n",
              "      <th>2</th>\n",
              "      <td>mdb033.pgm.png</td>\n",
              "      <td>dense</td>\n",
              "    </tr>\n",
              "    <tr>\n",
              "      <th>3</th>\n",
              "      <td>mdb034.pgm.png</td>\n",
              "      <td>dense</td>\n",
              "    </tr>\n",
              "    <tr>\n",
              "      <th>4</th>\n",
              "      <td>mdb035.pgm.png</td>\n",
              "      <td>dense</td>\n",
              "    </tr>\n",
              "  </tbody>\n",
              "</table>\n",
              "</div>"
            ],
            "text/plain": [
              "         img_path  class\n",
              "0  mdb003.pgm.png  dense\n",
              "1  mdb004.pgm.png  dense\n",
              "2  mdb033.pgm.png  dense\n",
              "3  mdb034.pgm.png  dense\n",
              "4  mdb035.pgm.png  dense"
            ]
          },
          "metadata": {},
          "execution_count": 44
        }
      ]
    },
    {
      "cell_type": "code",
      "metadata": {
        "id": "_i1Uwe-gA_Ua"
      },
      "source": [
        "vdf=pd.read_csv('/content/test.csv')"
      ],
      "execution_count": null,
      "outputs": []
    },
    {
      "cell_type": "code",
      "metadata": {
        "colab": {
          "base_uri": "https://localhost:8080/",
          "height": 204
        },
        "id": "QAf_4u61BJwd",
        "outputId": "085562fd-4eb1-4a0b-89de-760488f0239f"
      },
      "source": [
        "vdf.head()"
      ],
      "execution_count": null,
      "outputs": [
        {
          "output_type": "execute_result",
          "data": {
            "text/html": [
              "<div>\n",
              "<style scoped>\n",
              "    .dataframe tbody tr th:only-of-type {\n",
              "        vertical-align: middle;\n",
              "    }\n",
              "\n",
              "    .dataframe tbody tr th {\n",
              "        vertical-align: top;\n",
              "    }\n",
              "\n",
              "    .dataframe thead th {\n",
              "        text-align: right;\n",
              "    }\n",
              "</style>\n",
              "<table border=\"1\" class=\"dataframe\">\n",
              "  <thead>\n",
              "    <tr style=\"text-align: right;\">\n",
              "      <th></th>\n",
              "      <th>img_path</th>\n",
              "      <th>class</th>\n",
              "    </tr>\n",
              "  </thead>\n",
              "  <tbody>\n",
              "    <tr>\n",
              "      <th>0</th>\n",
              "      <td>mdb293.pgm.png</td>\n",
              "      <td>fatty</td>\n",
              "    </tr>\n",
              "    <tr>\n",
              "      <th>1</th>\n",
              "      <td>mdb297.pgm.png</td>\n",
              "      <td>fatty</td>\n",
              "    </tr>\n",
              "    <tr>\n",
              "      <th>2</th>\n",
              "      <td>mdb299.pgm.png</td>\n",
              "      <td>fatty</td>\n",
              "    </tr>\n",
              "    <tr>\n",
              "      <th>3</th>\n",
              "      <td>mdb315.pgm.png</td>\n",
              "      <td>dense</td>\n",
              "    </tr>\n",
              "    <tr>\n",
              "      <th>4</th>\n",
              "      <td>mdb317.pgm.png</td>\n",
              "      <td>dense</td>\n",
              "    </tr>\n",
              "  </tbody>\n",
              "</table>\n",
              "</div>"
            ],
            "text/plain": [
              "         img_path  class\n",
              "0  mdb293.pgm.png  fatty\n",
              "1  mdb297.pgm.png  fatty\n",
              "2  mdb299.pgm.png  fatty\n",
              "3  mdb315.pgm.png  dense\n",
              "4  mdb317.pgm.png  dense"
            ]
          },
          "metadata": {},
          "execution_count": 46
        }
      ]
    },
    {
      "cell_type": "code",
      "metadata": {
        "id": "HsxuH79GCRwd"
      },
      "source": [
        "IMG_SIZE = (224,224)"
      ],
      "execution_count": null,
      "outputs": []
    },
    {
      "cell_type": "code",
      "metadata": {
        "id": "nsqtN5vsCaQ-"
      },
      "source": [
        "t_v = ImageDataGenerator(rescale=1./255.0,\n",
        "                         height_shift_range=0.1,\n",
        "                         width_shift_range=0.1,\n",
        "                         horizontal_flip=True,\n",
        "                         vertical_flip=False,\n",
        "                         zoom_range=0.2,\n",
        "                         rotation_range=20,\n",
        "                         shear_range=0.1)"
      ],
      "execution_count": null,
      "outputs": []
    },
    {
      "cell_type": "code",
      "metadata": {
        "colab": {
          "base_uri": "https://localhost:8080/"
        },
        "id": "5XefDWIpFi45",
        "outputId": "d44810d9-976d-4407-a2e3-2099b67636f8"
      },
      "source": [
        "t_f = t_v.flow_from_dataframe(dataframe=tdf,\n",
        "                              directory=None,\n",
        "                              x_col ='img_path',\n",
        "                              y_col='class',\n",
        "                              class_mode='binary',\n",
        "                              target_size=IMG_SIZE,\n",
        "                              batch_size=8)"
      ],
      "execution_count": null,
      "outputs": [
        {
          "output_type": "stream",
          "name": "stdout",
          "text": [
            "Found 20 validated image filenames belonging to 2 classes.\n"
          ]
        }
      ]
    },
    {
      "cell_type": "code",
      "metadata": {
        "id": "F_vTUMB2GOEG"
      },
      "source": [
        "v_v= ImageDataGenerator(rescale=1./255.0)"
      ],
      "execution_count": null,
      "outputs": []
    },
    {
      "cell_type": "code",
      "metadata": {
        "colab": {
          "base_uri": "https://localhost:8080/"
        },
        "id": "Ej-IFbXDGacF",
        "outputId": "af663326-ff47-431b-a80f-91695345acf5"
      },
      "source": [
        "v_f = v_v.flow_from_dataframe(dataframe=vdf,\n",
        "                              directory=None,\n",
        "                              x_col='img_path',\n",
        "                              y_col='class',\n",
        "                              class_mode='binary',\n",
        "                              target_size=IMG_SIZE,\n",
        "                              batch_size=8)"
      ],
      "execution_count": null,
      "outputs": [
        {
          "output_type": "stream",
          "name": "stdout",
          "text": [
            "Found 6 validated image filenames belonging to 2 classes.\n"
          ]
        }
      ]
    },
    {
      "cell_type": "code",
      "metadata": {
        "id": "erelBWUgOzLy"
      },
      "source": [
        "testX, testY = v_f.next()"
      ],
      "execution_count": null,
      "outputs": []
    },
    {
      "cell_type": "code",
      "metadata": {
        "colab": {
          "base_uri": "https://localhost:8080/"
        },
        "id": "NgQu6xMQHAWL",
        "outputId": "5ff3ac21-b928-4273-a73a-46ab3133da39"
      },
      "source": [
        "model = VGG16(include_top=True, weights='imagenet')\n",
        "model.summary()"
      ],
      "execution_count": null,
      "outputs": [
        {
          "output_type": "stream",
          "name": "stdout",
          "text": [
            "Model: \"vgg16\"\n",
            "_________________________________________________________________\n",
            "Layer (type)                 Output Shape              Param #   \n",
            "=================================================================\n",
            "input_2 (InputLayer)         [(None, 224, 224, 3)]     0         \n",
            "_________________________________________________________________\n",
            "block1_conv1 (Conv2D)        (None, 224, 224, 64)      1792      \n",
            "_________________________________________________________________\n",
            "block1_conv2 (Conv2D)        (None, 224, 224, 64)      36928     \n",
            "_________________________________________________________________\n",
            "block1_pool (MaxPooling2D)   (None, 112, 112, 64)      0         \n",
            "_________________________________________________________________\n",
            "block2_conv1 (Conv2D)        (None, 112, 112, 128)     73856     \n",
            "_________________________________________________________________\n",
            "block2_conv2 (Conv2D)        (None, 112, 112, 128)     147584    \n",
            "_________________________________________________________________\n",
            "block2_pool (MaxPooling2D)   (None, 56, 56, 128)       0         \n",
            "_________________________________________________________________\n",
            "block3_conv1 (Conv2D)        (None, 56, 56, 256)       295168    \n",
            "_________________________________________________________________\n",
            "block3_conv2 (Conv2D)        (None, 56, 56, 256)       590080    \n",
            "_________________________________________________________________\n",
            "block3_conv3 (Conv2D)        (None, 56, 56, 256)       590080    \n",
            "_________________________________________________________________\n",
            "block3_pool (MaxPooling2D)   (None, 28, 28, 256)       0         \n",
            "_________________________________________________________________\n",
            "block4_conv1 (Conv2D)        (None, 28, 28, 512)       1180160   \n",
            "_________________________________________________________________\n",
            "block4_conv2 (Conv2D)        (None, 28, 28, 512)       2359808   \n",
            "_________________________________________________________________\n",
            "block4_conv3 (Conv2D)        (None, 28, 28, 512)       2359808   \n",
            "_________________________________________________________________\n",
            "block4_pool (MaxPooling2D)   (None, 14, 14, 512)       0         \n",
            "_________________________________________________________________\n",
            "block5_conv1 (Conv2D)        (None, 14, 14, 512)       2359808   \n",
            "_________________________________________________________________\n",
            "block5_conv2 (Conv2D)        (None, 14, 14, 512)       2359808   \n",
            "_________________________________________________________________\n",
            "block5_conv3 (Conv2D)        (None, 14, 14, 512)       2359808   \n",
            "_________________________________________________________________\n",
            "block5_pool (MaxPooling2D)   (None, 7, 7, 512)         0         \n",
            "_________________________________________________________________\n",
            "flatten (Flatten)            (None, 25088)             0         \n",
            "_________________________________________________________________\n",
            "fc1 (Dense)                  (None, 4096)              102764544 \n",
            "_________________________________________________________________\n",
            "fc2 (Dense)                  (None, 4096)              16781312  \n",
            "_________________________________________________________________\n",
            "predictions (Dense)          (None, 1000)              4097000   \n",
            "=================================================================\n",
            "Total params: 138,357,544\n",
            "Trainable params: 138,357,544\n",
            "Non-trainable params: 0\n",
            "_________________________________________________________________\n"
          ]
        }
      ]
    },
    {
      "cell_type": "code",
      "metadata": {
        "id": "PmHhlszPHUCR"
      },
      "source": [
        "transfer_layer = model.get_layer('block5_pool')\n",
        "vgg_model = Model(inputs=model.input,\n",
        "                  outputs=transfer_layer.output)"
      ],
      "execution_count": null,
      "outputs": []
    },
    {
      "cell_type": "code",
      "metadata": {
        "id": "Kllq1QLjMhn7"
      },
      "source": [
        "for layer in vgg_model.layers[0:1]:\n",
        "    layer.trainable = False"
      ],
      "execution_count": null,
      "outputs": []
    },
    {
      "cell_type": "code",
      "metadata": {
        "colab": {
          "base_uri": "https://localhost:8080/"
        },
        "id": "mYG0QlLSMu75",
        "outputId": "81c06608-ebf3-4e87-9eff-4ad86153b9e3"
      },
      "source": [
        "for layer in vgg_model.layers:\n",
        "    print(layer.name, layer.trainable)"
      ],
      "execution_count": null,
      "outputs": [
        {
          "output_type": "stream",
          "name": "stdout",
          "text": [
            "input_2 False\n",
            "block1_conv1 True\n",
            "block1_conv2 True\n",
            "block1_pool True\n",
            "block2_conv1 True\n",
            "block2_conv2 True\n",
            "block2_pool True\n",
            "block3_conv1 True\n",
            "block3_conv2 True\n",
            "block3_conv3 True\n",
            "block3_pool True\n",
            "block4_conv1 True\n",
            "block4_conv2 True\n",
            "block4_conv3 True\n",
            "block4_pool True\n",
            "block5_conv1 True\n",
            "block5_conv2 True\n",
            "block5_conv3 True\n",
            "block5_pool True\n"
          ]
        }
      ]
    },
    {
      "cell_type": "code",
      "metadata": {
        "id": "LPPQ5IxHM37v"
      },
      "source": [
        "new_model = Sequential()\n",
        "\n",
        "# Add the convolutional part of the VGG16 model from above.\n",
        "new_model.add(vgg_model)\n",
        "\n",
        "# Flatten the output of the VGG16 model because it is from a\n",
        "# convolutional layer.\n",
        "new_model.add(Flatten())\n",
        "\n",
        "# Add a dense (aka. fully-connected) layer.\n",
        "# This is for combining features that the VGG16 model has\n",
        "# recognized in the image.\n",
        "new_model.add(Dense(1, activation='sigmoid'))"
      ],
      "execution_count": null,
      "outputs": []
    },
    {
      "cell_type": "code",
      "metadata": {
        "id": "fklQ2L-8NtKN"
      },
      "source": [
        "\n",
        "## Set our optimizer, loss function, and learning rate\n",
        "optimizer = Adam(learning_rate=1e-4)\n",
        "loss = 'binary_crossentropy'\n",
        "metrics = ['binary_accuracy']"
      ],
      "execution_count": null,
      "outputs": []
    },
    {
      "cell_type": "code",
      "metadata": {
        "id": "nveE0A4MNvJP"
      },
      "source": [
        "new_model.compile(optimizer=optimizer, loss=loss, metrics=metrics)"
      ],
      "execution_count": null,
      "outputs": []
    },
    {
      "cell_type": "code",
      "metadata": {
        "colab": {
          "base_uri": "https://localhost:8080/"
        },
        "id": "tmKqkE6AOjFJ",
        "outputId": "8b76b25e-6efa-4573-afc5-488d8ceea1ee"
      },
      "source": [
        "new_model.fit_generator(t_f, \n",
        "                                  validation_data = (testX, testY), \n",
        "                                  epochs = 5)"
      ],
      "execution_count": null,
      "outputs": [
        {
          "output_type": "stream",
          "name": "stderr",
          "text": [
            "/usr/local/lib/python3.7/dist-packages/keras/engine/training.py:1972: UserWarning: `Model.fit_generator` is deprecated and will be removed in a future version. Please use `Model.fit`, which supports generators.\n",
            "  warnings.warn('`Model.fit_generator` is deprecated and '\n"
          ]
        },
        {
          "output_type": "stream",
          "name": "stdout",
          "text": [
            "Epoch 1/5\n",
            "3/3 [==============================] - 38s 15s/step - loss: 0.7784 - binary_accuracy: 0.6500 - val_loss: 0.7045 - val_binary_accuracy: 0.5000\n",
            "Epoch 2/5\n",
            "3/3 [==============================] - 37s 11s/step - loss: 0.6640 - binary_accuracy: 0.6500 - val_loss: 0.6795 - val_binary_accuracy: 0.5000\n",
            "Epoch 3/5\n",
            "3/3 [==============================] - 37s 12s/step - loss: 0.6151 - binary_accuracy: 0.6500 - val_loss: 0.6251 - val_binary_accuracy: 0.3333\n",
            "Epoch 4/5\n",
            "3/3 [==============================] - 37s 12s/step - loss: 0.5788 - binary_accuracy: 0.7000 - val_loss: 0.6296 - val_binary_accuracy: 0.6667\n",
            "Epoch 5/5\n",
            "3/3 [==============================] - 37s 12s/step - loss: 0.4471 - binary_accuracy: 0.8000 - val_loss: 0.6685 - val_binary_accuracy: 0.6667\n"
          ]
        },
        {
          "output_type": "execute_result",
          "data": {
            "text/plain": [
              "<keras.callbacks.History at 0x7f495d969290>"
            ]
          },
          "metadata": {},
          "execution_count": 67
        }
      ]
    },
    {
      "cell_type": "code",
      "metadata": {
        "id": "wg__6SFPOlil"
      },
      "source": [
        ""
      ],
      "execution_count": null,
      "outputs": []
    }
  ]
}