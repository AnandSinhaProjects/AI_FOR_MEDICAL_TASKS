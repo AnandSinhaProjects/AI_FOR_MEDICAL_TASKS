{
  "nbformat": 4,
  "nbformat_minor": 0,
  "metadata": {
    "colab": {
      "name": "Golden_Standard.ipynb",
      "provenance": [],
      "authorship_tag": "ABX9TyN+C8waf9ABEH6jdowshUJ4",
      "include_colab_link": true
    },
    "kernelspec": {
      "name": "python3",
      "display_name": "Python 3"
    },
    "language_info": {
      "name": "python"
    }
  },
  "cells": [
    {
      "cell_type": "markdown",
      "metadata": {
        "id": "view-in-github",
        "colab_type": "text"
      },
      "source": [
        "<a href=\"https://colab.research.google.com/github/AnandSinhaProjects/AI_FOR_MEDICAL_TASKS/blob/main/2D/Golden%20Ground%20Truth/Golden_Standard.ipynb\" target=\"_parent\"><img src=\"https://colab.research.google.com/assets/colab-badge.svg\" alt=\"Open In Colab\"/></a>"
      ]
    },
    {
      "cell_type": "code",
      "metadata": {
        "id": "pu1-UaPF83H7"
      },
      "source": [
        "import matplotlib.pyplot as plt\n",
        "import numpy as np\n",
        "import pandas as pd\n",
        "\n",
        "import seaborn as sns"
      ],
      "execution_count": 28,
      "outputs": []
    },
    {
      "cell_type": "code",
      "metadata": {
        "id": "ORguzgZk_vQd"
      },
      "source": [
        "d = pd.read_csv('/content/labels.csv')"
      ],
      "execution_count": 29,
      "outputs": []
    },
    {
      "cell_type": "code",
      "metadata": {
        "colab": {
          "base_uri": "https://localhost:8080/",
          "height": 204
        },
        "id": "nJquFdF6_vLs",
        "outputId": "1761b67f-a976-4df5-998d-c3a74f594c84"
      },
      "source": [
        "d.head()"
      ],
      "execution_count": 30,
      "outputs": [
        {
          "output_type": "execute_result",
          "data": {
            "text/html": [
              "<div>\n",
              "<style scoped>\n",
              "    .dataframe tbody tr th:only-of-type {\n",
              "        vertical-align: middle;\n",
              "    }\n",
              "\n",
              "    .dataframe tbody tr th {\n",
              "        vertical-align: top;\n",
              "    }\n",
              "\n",
              "    .dataframe thead th {\n",
              "        text-align: right;\n",
              "    }\n",
              "</style>\n",
              "<table border=\"1\" class=\"dataframe\">\n",
              "  <thead>\n",
              "    <tr style=\"text-align: right;\">\n",
              "      <th></th>\n",
              "      <th>rad1</th>\n",
              "      <th>rad2</th>\n",
              "      <th>rad3</th>\n",
              "      <th>biopsy</th>\n",
              "    </tr>\n",
              "  </thead>\n",
              "  <tbody>\n",
              "    <tr>\n",
              "      <th>0</th>\n",
              "      <td>benign</td>\n",
              "      <td>benign</td>\n",
              "      <td>benign</td>\n",
              "      <td>benign</td>\n",
              "    </tr>\n",
              "    <tr>\n",
              "      <th>1</th>\n",
              "      <td>benign</td>\n",
              "      <td>benign</td>\n",
              "      <td>benign</td>\n",
              "      <td>benign</td>\n",
              "    </tr>\n",
              "    <tr>\n",
              "      <th>2</th>\n",
              "      <td>benign</td>\n",
              "      <td>benign</td>\n",
              "      <td>benign</td>\n",
              "      <td>benign</td>\n",
              "    </tr>\n",
              "    <tr>\n",
              "      <th>3</th>\n",
              "      <td>benign</td>\n",
              "      <td>benign</td>\n",
              "      <td>benign</td>\n",
              "      <td>benign</td>\n",
              "    </tr>\n",
              "    <tr>\n",
              "      <th>4</th>\n",
              "      <td>benign</td>\n",
              "      <td>benign</td>\n",
              "      <td>cancer</td>\n",
              "      <td>benign</td>\n",
              "    </tr>\n",
              "  </tbody>\n",
              "</table>\n",
              "</div>"
            ],
            "text/plain": [
              "     rad1    rad2    rad3  biopsy\n",
              "0  benign  benign  benign  benign\n",
              "1  benign  benign  benign  benign\n",
              "2  benign  benign  benign  benign\n",
              "3  benign  benign  benign  benign\n",
              "4  benign  benign  cancer  benign"
            ]
          },
          "metadata": {},
          "execution_count": 30
        }
      ]
    },
    {
      "cell_type": "code",
      "metadata": {
        "id": "yW96vqZK_6ix"
      },
      "source": [
        "d=d.replace(to_replace='benign', value=1)"
      ],
      "execution_count": 31,
      "outputs": []
    },
    {
      "cell_type": "code",
      "metadata": {
        "id": "EUIjKdOVBVSJ"
      },
      "source": [
        "d=d.replace(to_replace='cancer', value=0)"
      ],
      "execution_count": 32,
      "outputs": []
    },
    {
      "cell_type": "code",
      "metadata": {
        "colab": {
          "base_uri": "https://localhost:8080/",
          "height": 204
        },
        "id": "WstTJCl7BPLn",
        "outputId": "3345e969-495a-4a11-fb2e-9fbb468b5708"
      },
      "source": [
        "d.head()"
      ],
      "execution_count": 33,
      "outputs": [
        {
          "output_type": "execute_result",
          "data": {
            "text/html": [
              "<div>\n",
              "<style scoped>\n",
              "    .dataframe tbody tr th:only-of-type {\n",
              "        vertical-align: middle;\n",
              "    }\n",
              "\n",
              "    .dataframe tbody tr th {\n",
              "        vertical-align: top;\n",
              "    }\n",
              "\n",
              "    .dataframe thead th {\n",
              "        text-align: right;\n",
              "    }\n",
              "</style>\n",
              "<table border=\"1\" class=\"dataframe\">\n",
              "  <thead>\n",
              "    <tr style=\"text-align: right;\">\n",
              "      <th></th>\n",
              "      <th>rad1</th>\n",
              "      <th>rad2</th>\n",
              "      <th>rad3</th>\n",
              "      <th>biopsy</th>\n",
              "    </tr>\n",
              "  </thead>\n",
              "  <tbody>\n",
              "    <tr>\n",
              "      <th>0</th>\n",
              "      <td>1</td>\n",
              "      <td>1</td>\n",
              "      <td>1</td>\n",
              "      <td>1</td>\n",
              "    </tr>\n",
              "    <tr>\n",
              "      <th>1</th>\n",
              "      <td>1</td>\n",
              "      <td>1</td>\n",
              "      <td>1</td>\n",
              "      <td>1</td>\n",
              "    </tr>\n",
              "    <tr>\n",
              "      <th>2</th>\n",
              "      <td>1</td>\n",
              "      <td>1</td>\n",
              "      <td>1</td>\n",
              "      <td>1</td>\n",
              "    </tr>\n",
              "    <tr>\n",
              "      <th>3</th>\n",
              "      <td>1</td>\n",
              "      <td>1</td>\n",
              "      <td>1</td>\n",
              "      <td>1</td>\n",
              "    </tr>\n",
              "    <tr>\n",
              "      <th>4</th>\n",
              "      <td>1</td>\n",
              "      <td>1</td>\n",
              "      <td>0</td>\n",
              "      <td>1</td>\n",
              "    </tr>\n",
              "  </tbody>\n",
              "</table>\n",
              "</div>"
            ],
            "text/plain": [
              "   rad1  rad2  rad3  biopsy\n",
              "0     1     1     1       1\n",
              "1     1     1     1       1\n",
              "2     1     1     1       1\n",
              "3     1     1     1       1\n",
              "4     1     1     0       1"
            ]
          },
          "metadata": {},
          "execution_count": 33
        }
      ]
    },
    {
      "cell_type": "code",
      "metadata": {
        "id": "pLH2vfLEBZP0"
      },
      "source": [
        "rb=d[\"biopsy\"]"
      ],
      "execution_count": 34,
      "outputs": []
    },
    {
      "cell_type": "code",
      "metadata": {
        "colab": {
          "base_uri": "https://localhost:8080/"
        },
        "id": "LRXD2zk0CnpS",
        "outputId": "1944d617-7b22-45fd-db9d-118d7bd77245"
      },
      "source": [
        "rb.head()"
      ],
      "execution_count": 35,
      "outputs": [
        {
          "output_type": "execute_result",
          "data": {
            "text/plain": [
              "0    1\n",
              "1    1\n",
              "2    1\n",
              "3    1\n",
              "4    1\n",
              "Name: biopsy, dtype: int64"
            ]
          },
          "metadata": {},
          "execution_count": 35
        }
      ]
    },
    {
      "cell_type": "code",
      "metadata": {
        "colab": {
          "base_uri": "https://localhost:8080/"
        },
        "id": "Uo2BOYBrEVhM",
        "outputId": "779fa389-8117-43be-937d-4ed2be163689"
      },
      "source": [
        "r1=d[[\"rad1\",\"rad2\",\"rad3\"]].sum(axis=1)\n",
        "r1= (r1>1).replace(True, 1).replace(False,0)\n",
        "r1.head(10)"
      ],
      "execution_count": 36,
      "outputs": [
        {
          "output_type": "execute_result",
          "data": {
            "text/plain": [
              "0    1.0\n",
              "1    1.0\n",
              "2    1.0\n",
              "3    1.0\n",
              "4    1.0\n",
              "5    0.0\n",
              "6    1.0\n",
              "7    1.0\n",
              "8    0.0\n",
              "9    1.0\n",
              "dtype: float64"
            ]
          },
          "metadata": {},
          "execution_count": 36
        }
      ]
    },
    {
      "cell_type": "code",
      "metadata": {
        "colab": {
          "base_uri": "https://localhost:8080/",
          "height": 204
        },
        "id": "Uef4L_UuFlc_",
        "outputId": "5fd848a7-62f4-4807-d239-dd1a0c3086c3"
      },
      "source": [
        "wl=d.copy()\n",
        "wl['rad1'] = wl['rad1']*0.33\n",
        "wl['rad2'] = wl['rad2']*0.67\n",
        "wl.head()"
      ],
      "execution_count": 38,
      "outputs": [
        {
          "output_type": "execute_result",
          "data": {
            "text/html": [
              "<div>\n",
              "<style scoped>\n",
              "    .dataframe tbody tr th:only-of-type {\n",
              "        vertical-align: middle;\n",
              "    }\n",
              "\n",
              "    .dataframe tbody tr th {\n",
              "        vertical-align: top;\n",
              "    }\n",
              "\n",
              "    .dataframe thead th {\n",
              "        text-align: right;\n",
              "    }\n",
              "</style>\n",
              "<table border=\"1\" class=\"dataframe\">\n",
              "  <thead>\n",
              "    <tr style=\"text-align: right;\">\n",
              "      <th></th>\n",
              "      <th>rad1</th>\n",
              "      <th>rad2</th>\n",
              "      <th>rad3</th>\n",
              "      <th>biopsy</th>\n",
              "    </tr>\n",
              "  </thead>\n",
              "  <tbody>\n",
              "    <tr>\n",
              "      <th>0</th>\n",
              "      <td>0.33</td>\n",
              "      <td>0.67</td>\n",
              "      <td>1</td>\n",
              "      <td>1</td>\n",
              "    </tr>\n",
              "    <tr>\n",
              "      <th>1</th>\n",
              "      <td>0.33</td>\n",
              "      <td>0.67</td>\n",
              "      <td>1</td>\n",
              "      <td>1</td>\n",
              "    </tr>\n",
              "    <tr>\n",
              "      <th>2</th>\n",
              "      <td>0.33</td>\n",
              "      <td>0.67</td>\n",
              "      <td>1</td>\n",
              "      <td>1</td>\n",
              "    </tr>\n",
              "    <tr>\n",
              "      <th>3</th>\n",
              "      <td>0.33</td>\n",
              "      <td>0.67</td>\n",
              "      <td>1</td>\n",
              "      <td>1</td>\n",
              "    </tr>\n",
              "    <tr>\n",
              "      <th>4</th>\n",
              "      <td>0.33</td>\n",
              "      <td>0.67</td>\n",
              "      <td>0</td>\n",
              "      <td>1</td>\n",
              "    </tr>\n",
              "  </tbody>\n",
              "</table>\n",
              "</div>"
            ],
            "text/plain": [
              "   rad1  rad2  rad3  biopsy\n",
              "0  0.33  0.67     1       1\n",
              "1  0.33  0.67     1       1\n",
              "2  0.33  0.67     1       1\n",
              "3  0.33  0.67     1       1\n",
              "4  0.33  0.67     0       1"
            ]
          },
          "metadata": {},
          "execution_count": 38
        }
      ]
    },
    {
      "cell_type": "code",
      "metadata": {
        "colab": {
          "base_uri": "https://localhost:8080/"
        },
        "id": "_Y3zCvpvFb-T",
        "outputId": "2aac9a03-b174-47a0-c416-5d0b5428ba36"
      },
      "source": [
        "r2=wl[[\"rad1\",\"rad2\",\"rad3\"]].sum(axis=1)\n",
        "r2= (r2>1).replace(True, 1).replace(False,0)\n",
        "r2.head(10)"
      ],
      "execution_count": 39,
      "outputs": [
        {
          "output_type": "execute_result",
          "data": {
            "text/plain": [
              "0    1.0\n",
              "1    1.0\n",
              "2    1.0\n",
              "3    1.0\n",
              "4    0.0\n",
              "5    0.0\n",
              "6    1.0\n",
              "7    1.0\n",
              "8    0.0\n",
              "9    0.0\n",
              "dtype: float64"
            ]
          },
          "metadata": {},
          "execution_count": 39
        }
      ]
    },
    {
      "cell_type": "code",
      "metadata": {
        "id": "_6J9jCTBGGWE"
      },
      "source": [
        "btw= r1==r2"
      ],
      "execution_count": 40,
      "outputs": []
    },
    {
      "cell_type": "code",
      "metadata": {
        "colab": {
          "base_uri": "https://localhost:8080/"
        },
        "id": "hWAk-ilbGYMe",
        "outputId": "e4e4733a-df0e-456e-abaa-232e2d4436fb"
      },
      "source": [
        "btw[btw==False]"
      ],
      "execution_count": 43,
      "outputs": [
        {
          "output_type": "execute_result",
          "data": {
            "text/plain": [
              "4     False\n",
              "9     False\n",
              "17    False\n",
              "20    False\n",
              "56    False\n",
              "58    False\n",
              "dtype: bool"
            ]
          },
          "metadata": {},
          "execution_count": 43
        }
      ]
    },
    {
      "cell_type": "code",
      "metadata": {
        "colab": {
          "base_uri": "https://localhost:8080/"
        },
        "id": "R14oxhHHGZwJ",
        "outputId": "a9914819-adf0-48d3-b5c4-afd985fb17c7"
      },
      "source": [
        "btwg=rb==r2\n",
        "btwg[btwg==False]"
      ],
      "execution_count": 42,
      "outputs": [
        {
          "output_type": "execute_result",
          "data": {
            "text/plain": [
              "4     False\n",
              "9     False\n",
              "12    False\n",
              "14    False\n",
              "17    False\n",
              "20    False\n",
              "22    False\n",
              "29    False\n",
              "30    False\n",
              "34    False\n",
              "37    False\n",
              "52    False\n",
              "56    False\n",
              "57    False\n",
              "58    False\n",
              "dtype: bool"
            ]
          },
          "metadata": {},
          "execution_count": 42
        }
      ]
    },
    {
      "cell_type": "code",
      "metadata": {
        "colab": {
          "base_uri": "https://localhost:8080/"
        },
        "id": "1hiSpm2HGogS",
        "outputId": "90b93309-1e09-4d03-aede-83ca1a19b332"
      },
      "source": [
        "btw1g=rb==r1\n",
        "btw1g[btwg==False]"
      ],
      "execution_count": 44,
      "outputs": [
        {
          "output_type": "execute_result",
          "data": {
            "text/plain": [
              "4      True\n",
              "9      True\n",
              "12    False\n",
              "14    False\n",
              "17     True\n",
              "20     True\n",
              "22    False\n",
              "29    False\n",
              "30    False\n",
              "34    False\n",
              "37    False\n",
              "52    False\n",
              "56     True\n",
              "57    False\n",
              "58     True\n",
              "dtype: bool"
            ]
          },
          "metadata": {},
          "execution_count": 44
        }
      ]
    },
    {
      "cell_type": "code",
      "metadata": {
        "id": "T2b3rcNhGu9h"
      },
      "source": [
        ""
      ],
      "execution_count": null,
      "outputs": []
    }
  ]
}