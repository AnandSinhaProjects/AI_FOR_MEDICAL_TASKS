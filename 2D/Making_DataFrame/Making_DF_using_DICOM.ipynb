{
  "nbformat": 4,
  "nbformat_minor": 0,
  "metadata": {
    "colab": {
      "name": "Making_DF_using_DICOM.ipynb",
      "provenance": [],
      "authorship_tag": "ABX9TyPeOYq7GYWN3r++Kxvd6iTs",
      "include_colab_link": true
    },
    "kernelspec": {
      "name": "python3",
      "display_name": "Python 3"
    },
    "language_info": {
      "name": "python"
    }
  },
  "cells": [
    {
      "cell_type": "markdown",
      "metadata": {
        "id": "view-in-github",
        "colab_type": "text"
      },
      "source": [
        "<a href=\"https://colab.research.google.com/github/AnandSinhaProjects/AI_FOR_MEDICAL_TASKS/blob/main/2D/Making_DataFrame/Making_DF_using_DICOM.ipynb\" target=\"_parent\"><img src=\"https://colab.research.google.com/assets/colab-badge.svg\" alt=\"Open In Colab\"/></a>"
      ]
    },
    {
      "cell_type": "markdown",
      "metadata": {
        "id": "ut7SfxGhdJHL"
      },
      "source": [
        "## ***Prepare DICOM Images for ML Exercise***\n",
        "In this exercise, we have a small set of seven DICOM images. Here, rather than extracting the image itself from the DICOM file, we'll be extracting other attributes that tell us about the image and the patient who is represented in it.\n",
        "\n",
        "To complete this exercise, create a single dataframe that has the following columns:\n",
        "\n",
        "Patient ID\n",
        "\n",
        "- Patient Age (as an integer)\n",
        "- Patient Sex (M/F)\n",
        "- Imaging Modality\n",
        "- Type of finding in the image\n",
        "- Number of rows in the image\n",
        "- Number of columns in the image\n",
        "- Print the contents of this dataframe.\n",
        "\n",
        "Note: When you see an attribute listed like \"Patient's Age\" for a DICOM, this can usually be extracted with pydicom by removing the spaces and special characters, like dcm.PatientAge"
      ]
    },
    {
      "cell_type": "code",
      "metadata": {
        "colab": {
          "base_uri": "https://localhost:8080/"
        },
        "id": "Y611WLX9Xm8j",
        "outputId": "a32f2c8b-0a19-4ecb-c709-98980343ae52"
      },
      "source": [
        "!pip install pydicom"
      ],
      "execution_count": 3,
      "outputs": [
        {
          "output_type": "stream",
          "text": [
            "Collecting pydicom\n",
            "  Downloading pydicom-2.2.0-py3-none-any.whl (1.9 MB)\n",
            "\u001b[K     |████████████████████████████████| 1.9 MB 5.3 MB/s \n",
            "\u001b[?25hInstalling collected packages: pydicom\n",
            "Successfully installed pydicom-2.2.0\n"
          ],
          "name": "stdout"
        }
      ]
    },
    {
      "cell_type": "code",
      "metadata": {
        "id": "58Bu703TX6N9"
      },
      "source": [
        "import numpy as np\n",
        "import matplotlib as plt\n",
        "import pydicom\n",
        "import sklearn\n",
        "import glob"
      ],
      "execution_count": 7,
      "outputs": []
    },
    {
      "cell_type": "code",
      "metadata": {
        "id": "wXHcGqaBYu_E"
      },
      "source": [
        "timg = glob.glob(\"/content/*.dcm\")"
      ],
      "execution_count": 8,
      "outputs": []
    },
    {
      "cell_type": "code",
      "metadata": {
        "id": "27Z4RPsPYCoz"
      },
      "source": [
        "pdc = pydicom.dcmread(timg[0])"
      ],
      "execution_count": 9,
      "outputs": []
    },
    {
      "cell_type": "code",
      "metadata": {
        "colab": {
          "base_uri": "https://localhost:8080/"
        },
        "id": "DXGQa9muYeG7",
        "outputId": "4fc67ff7-f77f-4937-b705-f3e641843d3e"
      },
      "source": [
        "pdc"
      ],
      "execution_count": 10,
      "outputs": [
        {
          "output_type": "execute_result",
          "data": {
            "text/plain": [
              "Dataset.file_meta -------------------------------\n",
              "(0002, 0000) File Meta Information Group Length  UL: 204\n",
              "(0002, 0001) File Meta Information Version       OB: b'\\x00\\x01'\n",
              "(0002, 0002) Media Storage SOP Class UID         UI: Secondary Capture Image Storage\n",
              "(0002, 0003) Media Storage SOP Instance UID      UI: 1.3.6.1.4.1.11129.5.5.139539879914217162512411239901306132962191\n",
              "(0002, 0010) Transfer Syntax UID                 UI: Implicit VR Little Endian\n",
              "(0002, 0012) Implementation Class UID            UI: 1.2.826.0.1.3680043.8.498.1\n",
              "(0002, 0013) Implementation Version Name         SH: 'PYDICOM 1.2.0'\n",
              "-------------------------------------------------\n",
              "(0008, 0016) SOP Class UID                       UI: Secondary Capture Image Storage\n",
              "(0008, 0018) SOP Instance UID                    UI: 1.3.6.1.4.1.11129.5.5.139539879914217162512411239901306132962191\n",
              "(0008, 0060) Modality                            CS: 'DX'\n",
              "(0008, 1030) Study Description                   LO: 'Atelectasis'\n",
              "(0010, 0020) Patient ID                          LO: '13118'\n",
              "(0010, 0040) Patient's Sex                       CS: 'M'\n",
              "(0010, 1010) Patient's Age                       AS: '69'\n",
              "(0020, 000d) Study Instance UID                  UI: 1.3.6.1.4.1.11129.5.5.120992059193772113283592409393507044871674\n",
              "(0020, 000e) Series Instance UID                 UI: 1.3.6.1.4.1.11129.5.5.110922964580080663514009950443538578354984\n",
              "(0028, 0002) Samples per Pixel                   US: 1\n",
              "(0028, 0004) Photometric Interpretation          CS: 'MONOCHROME2'\n",
              "(0028, 0010) Rows                                US: 1024\n",
              "(0028, 0011) Columns                             US: 1024\n",
              "(0028, 0100) Bits Allocated                      US: 8\n",
              "(0028, 0101) Bits Stored                         US: 8\n",
              "(0028, 0102) High Bit                            US: 7\n",
              "(0028, 0103) Pixel Representation                US: 0\n",
              "(7fe0, 0010) Pixel Data                          OW: Array of 1048576 elements"
            ]
          },
          "metadata": {},
          "execution_count": 10
        }
      ]
    },
    {
      "cell_type": "code",
      "metadata": {
        "colab": {
          "base_uri": "https://localhost:8080/",
          "height": 35
        },
        "id": "rAAJqZlfbj5Z",
        "outputId": "b73da61d-c993-4b1d-e267-892b0a04b8e5"
      },
      "source": [
        "pdc.PatientID"
      ],
      "execution_count": 16,
      "outputs": [
        {
          "output_type": "execute_result",
          "data": {
            "application/vnd.google.colaboratory.intrinsic+json": {
              "type": "string"
            },
            "text/plain": [
              "'13118'"
            ]
          },
          "metadata": {},
          "execution_count": 16
        }
      ]
    },
    {
      "cell_type": "markdown",
      "metadata": {
        "id": "ftlvD3iqZY4O"
      },
      "source": [
        "### ***Objective***\n",
        "\n",
        "**To complete this exercise, create a single dataframe that has the following columns:**\n",
        "\n",
        "1. Patient ID\n",
        "2. Patient Age (as an integer)\n",
        "3. Patient Sex (M/F)\n",
        "4. Imaging Modality\n",
        "5. Type of finding in the image\n",
        "6. Number of rows in the image\n",
        "7. Number of columns in the image\n",
        "\n"
      ]
    },
    {
      "cell_type": "code",
      "metadata": {
        "id": "Mt1CQQDQZFzU"
      },
      "source": [
        " df = []\n",
        "for i in timg:\n",
        "  dcm = pydicom.dcmread(i)\n",
        "  fields = [dcm.PatientID,dcm.PatientAge,dcm.PatientSex,dcm.Modality,dcm.StudyDescription,dcm.Rows,dcm.Columns]\n",
        "  df.append(fields)"
      ],
      "execution_count": 25,
      "outputs": []
    },
    {
      "cell_type": "code",
      "metadata": {
        "colab": {
          "base_uri": "https://localhost:8080/"
        },
        "id": "plrGeZpPa-zf",
        "outputId": "0496e125-beca-49f7-99ad-69cfef37ce15"
      },
      "source": [
        "df "
      ],
      "execution_count": 22,
      "outputs": [
        {
          "output_type": "execute_result",
          "data": {
            "text/plain": [
              "<function list.append>"
            ]
          },
          "metadata": {},
          "execution_count": 22
        }
      ]
    },
    {
      "cell_type": "code",
      "metadata": {
        "id": "jd8cSf9-b_xp"
      },
      "source": [
        "import pandas as pd\n",
        "\n",
        "dff = pd.DataFrame(df, columns = [\"PatientID\",\"PatientAge\",\"PatientSex\",\"Modality\",\"StudyDescription\",\"Rows\",\"Columns\"])"
      ],
      "execution_count": 26,
      "outputs": []
    },
    {
      "cell_type": "code",
      "metadata": {
        "colab": {
          "base_uri": "https://localhost:8080/",
          "height": 266
        },
        "id": "xPWhct4nc70o",
        "outputId": "157e6984-0281-4eb5-991d-476843ea3315"
      },
      "source": [
        "dff"
      ],
      "execution_count": 27,
      "outputs": [
        {
          "output_type": "execute_result",
          "data": {
            "text/html": [
              "<div>\n",
              "<style scoped>\n",
              "    .dataframe tbody tr th:only-of-type {\n",
              "        vertical-align: middle;\n",
              "    }\n",
              "\n",
              "    .dataframe tbody tr th {\n",
              "        vertical-align: top;\n",
              "    }\n",
              "\n",
              "    .dataframe thead th {\n",
              "        text-align: right;\n",
              "    }\n",
              "</style>\n",
              "<table border=\"1\" class=\"dataframe\">\n",
              "  <thead>\n",
              "    <tr style=\"text-align: right;\">\n",
              "      <th></th>\n",
              "      <th>PatientID</th>\n",
              "      <th>PatientAge</th>\n",
              "      <th>PatientSex</th>\n",
              "      <th>Modality</th>\n",
              "      <th>StudyDescription</th>\n",
              "      <th>Rows</th>\n",
              "      <th>Columns</th>\n",
              "    </tr>\n",
              "  </thead>\n",
              "  <tbody>\n",
              "    <tr>\n",
              "      <th>0</th>\n",
              "      <td>13118</td>\n",
              "      <td>69</td>\n",
              "      <td>M</td>\n",
              "      <td>DX</td>\n",
              "      <td>Atelectasis</td>\n",
              "      <td>1024</td>\n",
              "      <td>1024</td>\n",
              "    </tr>\n",
              "    <tr>\n",
              "      <th>1</th>\n",
              "      <td>10172</td>\n",
              "      <td>59</td>\n",
              "      <td>F</td>\n",
              "      <td>DX</td>\n",
              "      <td>Atelectasis|Effusion</td>\n",
              "      <td>1024</td>\n",
              "      <td>1024</td>\n",
              "    </tr>\n",
              "    <tr>\n",
              "      <th>2</th>\n",
              "      <td>5066</td>\n",
              "      <td>52</td>\n",
              "      <td>M</td>\n",
              "      <td>DX</td>\n",
              "      <td>Cardiomegaly|Effusion|Infiltration</td>\n",
              "      <td>1024</td>\n",
              "      <td>1024</td>\n",
              "    </tr>\n",
              "    <tr>\n",
              "      <th>3</th>\n",
              "      <td>29579</td>\n",
              "      <td>24</td>\n",
              "      <td>F</td>\n",
              "      <td>DX</td>\n",
              "      <td>Effusion|Nodule|Pleural_Thickening|Mass</td>\n",
              "      <td>1024</td>\n",
              "      <td>1024</td>\n",
              "    </tr>\n",
              "    <tr>\n",
              "      <th>4</th>\n",
              "      <td>13659</td>\n",
              "      <td>62</td>\n",
              "      <td>F</td>\n",
              "      <td>DX</td>\n",
              "      <td>Consolidation|Mass|Pneumonia|Pneumothorax</td>\n",
              "      <td>1024</td>\n",
              "      <td>1024</td>\n",
              "    </tr>\n",
              "    <tr>\n",
              "      <th>5</th>\n",
              "      <td>1688</td>\n",
              "      <td>59</td>\n",
              "      <td>F</td>\n",
              "      <td>DX</td>\n",
              "      <td>Infiltration|Nodule</td>\n",
              "      <td>1024</td>\n",
              "      <td>1024</td>\n",
              "    </tr>\n",
              "    <tr>\n",
              "      <th>6</th>\n",
              "      <td>23075</td>\n",
              "      <td>31</td>\n",
              "      <td>M</td>\n",
              "      <td>DX</td>\n",
              "      <td>Mass</td>\n",
              "      <td>1024</td>\n",
              "      <td>1024</td>\n",
              "    </tr>\n",
              "  </tbody>\n",
              "</table>\n",
              "</div>"
            ],
            "text/plain": [
              "  PatientID PatientAge  ...  Rows Columns\n",
              "0     13118         69  ...  1024    1024\n",
              "1     10172         59  ...  1024    1024\n",
              "2      5066         52  ...  1024    1024\n",
              "3     29579         24  ...  1024    1024\n",
              "4     13659         62  ...  1024    1024\n",
              "5      1688         59  ...  1024    1024\n",
              "6     23075         31  ...  1024    1024\n",
              "\n",
              "[7 rows x 7 columns]"
            ]
          },
          "metadata": {},
          "execution_count": 27
        }
      ]
    },
    {
      "cell_type": "markdown",
      "metadata": {
        "id": "2MyR2A0wc_wC"
      },
      "source": [
        "Question Solved Correctly!"
      ]
    }
  ]
}